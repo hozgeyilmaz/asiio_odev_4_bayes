{
  "nbformat": 4,
  "nbformat_minor": 0,
  "metadata": {
    "colab": {
      "name": "Untitled5.ipynb",
      "version": "0.3.2",
      "provenance": [],
      "include_colab_link": true
    },
    "kernelspec": {
      "name": "python3",
      "display_name": "Python 3"
    }
  },
  "cells": [
    {
      "cell_type": "markdown",
      "metadata": {
        "id": "view-in-github",
        "colab_type": "text"
      },
      "source": [
        "<a href=\"https://colab.research.google.com/github/hozgeyilmaz/asiio_odev_4_bayes/blob/master/asiio_odev_4_bayes_ornegi.ipynb\" target=\"_parent\"><img src=\"https://colab.research.google.com/assets/colab-badge.svg\" alt=\"Open In Colab\"/></a>"
      ]
    },
    {
      "metadata": {
        "id": "GO9KwjHBqcbh",
        "colab_type": "text"
      },
      "cell_type": "markdown",
      "source": [
        "Bayes Teoremi:\n",
        "Bayes teoremi, 18. yüzyıl İngiliz matematikçisi Thomas Bayes’in adını verdiği koşullu olasılığı belirlemek için kullanılan matematiksel bir formüldür.\n",
        "\n",
        "P(A|B)=P(A)* P(B|A) / P(B)\n",
        "\n",
        "P(A|B) = B olayı gerçekleştiğinde A olayının gerçekleşme olasılığı\n",
        "\n",
        "P(A) = A olayının gerçekleşme olasılığı\n",
        "\n",
        "P(B|A) = A olayı gerçekleştiğinde B olayının gerçekleşme olasılığı\n",
        "\n",
        "P(B) = B olayının gerçekleşme olasılığı\n",
        "\n",
        "\n"
      ]
    },
    {
      "metadata": {
        "id": "e68S1gx-ramx",
        "colab_type": "text"
      },
      "cell_type": "markdown",
      "source": [
        "Bayes Teoremi Örnek :\n",
        "\n",
        "Bir araştırmaya göre her 43 çocuktan 1 tanesi, yetişkinlikte ortaya çıkan belli bir hastalığa yakalanmakta ve tam güvenilir olmamasına rağmen yapılan test sonuçlarına göre, hastalıklı bir çocuğun testi %80 pozitif, sağlıklı bir çocuğun testi ise %10 pozitif sonuç vermektedir. Bu bilgilere göre test sonucu pozitif olan bir çocuğun gerçekten hasta olma olasılığı nedir?"
      ]
    },
    {
      "metadata": {
        "id": "NgoVoZzGrnOC",
        "colab_type": "text"
      },
      "cell_type": "markdown",
      "source": [
        "P(A) : Çocuğun hasta olması olasılığı = 1/43\n",
        "\n",
        "P(B) : Testin pozitif çıkması olasılığı \n",
        "\n",
        "P(A|B) : Pozitif çıkan testin hastalık çıkma olasılığı (sorulan bu)\n",
        "\n",
        "P(B|A) : Hastalıklı çocuğun testinin pozitif çıkma olasılığı = 0.80"
      ]
    },
    {
      "metadata": {
        "id": "0nJKqNI-rtZu",
        "colab_type": "code",
        "colab": {}
      },
      "cell_type": "code",
      "source": [
        "Pa=1/43 #P(A) : Çocuğun hasta olması olasılığı\n",
        "Pba=0.80 #P(B|A) : Hastalıklı çocuğun testinin pozitif çıkma olasılığı \n",
        "Pb=(Pa*Pba)+((1-Pa)*0.10)\n",
        "print(\"Testin pozitif çıkma olasılığı = \",round(Pb,4))"
      ],
      "execution_count": 0,
      "outputs": []
    },
    {
      "metadata": {
        "id": "bOUjthFOsR-s",
        "colab_type": "text"
      },
      "cell_type": "markdown",
      "source": [
        "P(A|B)=P(B|A)*P(A)/P(B)  \n",
        "Bayes Teoremi formülünden yararlanarak test sonucu pozitif olan bir çocuğun gerçeketen hasta olma olasılığını hesaplayabiliriz:"
      ]
    },
    {
      "metadata": {
        "id": "vHVmTknjsk3V",
        "colab_type": "code",
        "colab": {}
      },
      "cell_type": "code",
      "source": [
        "Pab=Pba*Pa/Pb\n",
        "print(\"Test sonucu pozitif çıkan bir çocuğun gerçekten hasta olma olasılığı= %\",Pab*100)"
      ],
      "execution_count": 0,
      "outputs": []
    }
  ]
}